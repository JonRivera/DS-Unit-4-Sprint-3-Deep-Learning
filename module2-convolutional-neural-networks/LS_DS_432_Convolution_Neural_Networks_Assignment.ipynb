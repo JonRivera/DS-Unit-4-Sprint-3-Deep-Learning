{
  "nbformat": 4,
  "nbformat_minor": 0,
  "metadata": {
    "kernelspec": {
      "display_name": "U4-S2-NNF-DS10",
      "language": "python",
      "name": "u4-s2-nnf-ds10"
    },
    "language_info": {
      "codemirror_mode": {
        "name": "ipython",
        "version": 3
      },
      "file_extension": ".py",
      "mimetype": "text/x-python",
      "name": "python",
      "nbconvert_exporter": "python",
      "pygments_lexer": "ipython3",
      "version": "3.7.6"
    },
    "nteract": {
      "version": "0.23.1"
    },
    "colab": {
      "name": "LS_DS_432_Convolution_Neural_Networks_Assignment.ipynb",
      "provenance": []
    },
    "accelerator": "GPU"
  },
  "cells": [
    {
      "cell_type": "markdown",
      "metadata": {
        "id": "fc4yMj7mtCAZ",
        "colab_type": "text"
      },
      "source": [
        "<img align=\"left\" src=\"https://lever-client-logos.s3.amazonaws.com/864372b1-534c-480e-acd5-9711f850815c-1524247202159.png\" width=200>\n",
        "<br></br>\n",
        "<br></br>\n",
        "\n",
        "## *Data Science Unit 4 Sprint 3 Assignment 2*\n",
        "# Convolutional Neural Networks (CNNs)"
      ]
    },
    {
      "cell_type": "markdown",
      "metadata": {
        "colab_type": "text",
        "id": "0lfZdD_cp1t5"
      },
      "source": [
        "# Assignment\n",
        "\n",
        "- <a href=\"#p1\">Part 1:</a> Pre-Trained Model\n",
        "- <a href=\"#p2\">Part 2:</a> Custom CNN Model\n",
        "- <a href=\"#p3\">Part 3:</a> CNN with Data Augmentation\n",
        "\n",
        "\n",
        "You will apply three different CNN models to a binary image classification model using Keras. Classify images of Mountains (`./data/train/mountain/*`) and images of forests (`./data/train/forest/*`). Treat mountains as the positive class (1) and the forest images as the negative (zero). \n",
        "\n",
        "|Mountain (+)|Forest (-)|\n",
        "|---|---|\n",
        "|![](https://github.com/LambdaSchool/DS-Unit-4-Sprint-3-Deep-Learning/blob/main/module2-convolutional-neural-networks/data/train/mountain/art1131.jpg?raw=1)|![](https://github.com/LambdaSchool/DS-Unit-4-Sprint-3-Deep-Learning/blob/main/module2-convolutional-neural-networks/data/validation/forest/cdmc317.jpg?raw=1)|\n",
        "\n",
        "The problem is relatively difficult given that the sample is tiny: there are about 350 observations per class. This sample size might be something that you can expect with prototyping an image classification problem/solution at work. Get accustomed to evaluating several different possible models."
      ]
    },
    {
      "cell_type": "markdown",
      "metadata": {
        "colab_type": "text",
        "id": "1eawBP-otCAb"
      },
      "source": [
        "# Pre - Trained Model\n",
        "<a id=\"p1\"></a>\n",
        "\n",
        "Load a pretrained network from Keras, [ResNet50](https://tfhub.dev/google/imagenet/resnet_v1_50/classification/1) - a 50 layer deep network trained to recognize [1000 objects](https://storage.googleapis.com/download.tensorflow.org/data/ImageNetLabels.txt). Starting usage:\n",
        "\n",
        "```python\n",
        "import numpy as np\n",
        "\n",
        "from tensorflow.keras.applications.resnet50 import ResNet50\n",
        "from tensorflow.keras.preprocessing import image\n",
        "from tensorflow.keras.applications.resnet50 import preprocess_input, decode_predictions\n",
        "\n",
        "from tensorflow.keras.layers import Dense, GlobalAveragePooling2D\n",
        "from tensorflow.keras.models import Model # This is the functional API\n",
        "\n",
        "resnet = ResNet50(weights='imagenet', include_top=False)\n",
        "\n",
        "```\n",
        "\n",
        "The `include_top` parameter in `ResNet50` will remove the full connected layers from the ResNet model. The next step is to turn off the training of the ResNet layers. We want to use the learned parameters without updating them in future training passes. \n",
        "\n",
        "```python\n",
        "for layer in resnet.layers:\n",
        "    layer.trainable = False\n",
        "```\n",
        "\n",
        "Using the Keras functional API, we will need to additional additional full connected layers to our model. We we removed the top layers, we removed all preivous fully connected layers. In other words, we kept only the feature processing portions of our network. You can expert with additional layers beyond what's listed here. The `GlobalAveragePooling2D` layer functions as a really fancy flatten function by taking the average of each of the last convolutional layer outputs (which is two dimensional still). \n",
        "\n",
        "```python\n",
        "x = resnet.output\n",
        "x = GlobalAveragePooling2D()(x) # This layer is a really fancy flatten\n",
        "x = Dense(1024, activation='relu')(x)\n",
        "predictions = Dense(1, activation='sigmoid')(x)\n",
        "model = Model(resnet.input, predictions)\n",
        "```\n",
        "\n",
        "Your assignment is to apply the transfer learning above to classify images of Mountains (`./data/train/mountain/*`) and images of forests (`./data/train/forest/*`). Treat mountains as the positive class (1) and the forest images as the negative (zero). \n",
        "\n",
        "Steps to complete assignment: \n",
        "1. Load in Image Data into numpy arrays (`X`) \n",
        "2. Create a `y` for the labels\n",
        "3. Train your model with pre-trained layers from resnet\n",
        "4. Report your model's accuracy"
      ]
    },
    {
      "cell_type": "markdown",
      "metadata": {
        "id": "CLdGdXCatCAb",
        "colab_type": "text"
      },
      "source": [
        "## Load in Data\n",
        "\n",
        "This surprisingly more difficult than it seems, because you are working with directories of images instead of a single file. This boiler plate will help you download a zipped version of the directory of images. The directory is organized into \"train\" and \"validation\" which you can use inside an `ImageGenerator` class to stream batches of images thru your model.  \n"
      ]
    },
    {
      "cell_type": "markdown",
      "metadata": {
        "id": "moRVuHUqtCAc",
        "colab_type": "text"
      },
      "source": [
        "### Download & Summarize the Data\n",
        "\n",
        "This step is completed for you. Just run the cells and review the results. "
      ]
    },
    {
      "cell_type": "code",
      "metadata": {
        "id": "AR66H8o9tCAc",
        "colab_type": "code",
        "colab": {}
      },
      "source": [
        "import tensorflow as tf\n",
        "import os\n",
        "\n",
        "_URL = 'https://github.com/LambdaSchool/DS-Unit-4-Sprint-3-Deep-Learning/blob/main/module2-convolutional-neural-networks/data.zip?raw=true'\n",
        "\n",
        "path_to_zip = tf.keras.utils.get_file('./data.zip', origin=_URL, extract=True)\n",
        "PATH = os.path.join(os.path.dirname(path_to_zip), 'data')"
      ],
      "execution_count": 60,
      "outputs": []
    },
    {
      "cell_type": "code",
      "metadata": {
        "id": "MNFsIu_KtCAg",
        "colab_type": "code",
        "colab": {}
      },
      "source": [
        "train_dir = os.path.join(PATH, 'train')\n",
        "validation_dir = os.path.join(PATH, 'validation')"
      ],
      "execution_count": 11,
      "outputs": []
    },
    {
      "cell_type": "code",
      "metadata": {
        "id": "OsI9BQLotCAj",
        "colab_type": "code",
        "colab": {}
      },
      "source": [
        "train_mountain_dir = os.path.join(train_dir, 'mountain')  # directory with our training cat pictures\n",
        "train_forest_dir = os.path.join(train_dir, 'forest')  # directory with our training dog pictures\n",
        "validation_mountain_dir = os.path.join(validation_dir, 'mountain')  # directory with our validation cat pictures\n",
        "validation_forest_dir = os.path.join(validation_dir, 'forest')  # directory with our validation dog pictures"
      ],
      "execution_count": 12,
      "outputs": []
    },
    {
      "cell_type": "code",
      "metadata": {
        "id": "NUs1e5-XtCAl",
        "colab_type": "code",
        "colab": {}
      },
      "source": [
        "num_mountain_tr = len(os.listdir(train_mountain_dir))\n",
        "num_forest_tr = len(os.listdir(train_forest_dir))\n",
        "\n",
        "num_mountain_val = len(os.listdir(validation_mountain_dir))\n",
        "num_forest_val = len(os.listdir(validation_forest_dir))\n",
        "\n",
        "total_train = num_mountain_tr + num_forest_tr\n",
        "total_val = num_mountain_val + num_forest_val"
      ],
      "execution_count": 13,
      "outputs": []
    },
    {
      "cell_type": "code",
      "metadata": {
        "id": "ZmklbgSMtCAn",
        "colab_type": "code",
        "colab": {
          "base_uri": "https://localhost:8080/",
          "height": 136
        },
        "outputId": "b57fe415-d316-4b4e-ccb8-463b873a38d8"
      },
      "source": [
        "print('total training mountain images:', num_mountain_tr)\n",
        "print('total training forest images:', num_forest_tr)\n",
        "\n",
        "print('total validation mountain images:', num_mountain_val)\n",
        "print('total validation forest images:', num_forest_val)\n",
        "print(\"--\")\n",
        "print(\"Total training images:\", total_train)\n",
        "print(\"Total validation images:\", total_val)"
      ],
      "execution_count": 14,
      "outputs": [
        {
          "output_type": "stream",
          "text": [
            "total training mountain images: 254\n",
            "total training forest images: 270\n",
            "total validation mountain images: 125\n",
            "total validation forest images: 62\n",
            "--\n",
            "Total training images: 524\n",
            "Total validation images: 187\n"
          ],
          "name": "stdout"
        }
      ]
    },
    {
      "cell_type": "markdown",
      "metadata": {
        "id": "dQ4ag4ultCAq",
        "colab_type": "text"
      },
      "source": [
        "### Keras `ImageGenerator` to Process the Data\n",
        "\n",
        "This step is completed for you, but please review the code. The `ImageGenerator` class reads in batches of data from a directory and pass them to the model one batch at a time. Just like large text files, this method is advantageous, because it stifles the need to load a bunch of images into memory. \n",
        "\n",
        "Check out the documentation for this class method: [Keras `ImageGenerator` Class](https://keras.io/preprocessing/image/#imagedatagenerator-class). You'll expand it's use in the third assignment objective."
      ]
    },
    {
      "cell_type": "code",
      "metadata": {
        "id": "67i9IW49tCAq",
        "colab_type": "code",
        "colab": {}
      },
      "source": [
        "batch_size = 16\n",
        "epochs = 50\n",
        "IMG_HEIGHT = 224\n",
        "IMG_WIDTH = 224"
      ],
      "execution_count": 15,
      "outputs": []
    },
    {
      "cell_type": "code",
      "metadata": {
        "id": "B1wNKMo1tCAt",
        "colab_type": "code",
        "colab": {}
      },
      "source": [
        "from tensorflow.keras.preprocessing.image import ImageDataGenerator\n",
        "\n",
        "train_image_generator = ImageDataGenerator(rescale=1./255) # Generator for our training data\n",
        "validation_image_generator = ImageDataGenerator(rescale=1./255) # Generator for our validation data"
      ],
      "execution_count": 16,
      "outputs": []
    },
    {
      "cell_type": "code",
      "metadata": {
        "id": "ndsuM4L9tCAv",
        "colab_type": "code",
        "colab": {
          "base_uri": "https://localhost:8080/",
          "height": 34
        },
        "outputId": "6683db61-3bf2-4f13-fdec-6694c73209f9"
      },
      "source": [
        "train_data_gen = train_image_generator.flow_from_directory(batch_size=batch_size,\n",
        "                                                           directory=train_dir,\n",
        "                                                           shuffle=True,\n",
        "                                                           target_size=(IMG_HEIGHT, IMG_WIDTH),\n",
        "                                                           class_mode='binary')"
      ],
      "execution_count": 17,
      "outputs": [
        {
          "output_type": "stream",
          "text": [
            "Found 533 images belonging to 2 classes.\n"
          ],
          "name": "stdout"
        }
      ]
    },
    {
      "cell_type": "code",
      "metadata": {
        "id": "9kxlk3optCAy",
        "colab_type": "code",
        "colab": {
          "base_uri": "https://localhost:8080/",
          "height": 34
        },
        "outputId": "8faae6b6-9d69-4deb-e3b1-09663e822561"
      },
      "source": [
        "val_data_gen = validation_image_generator.flow_from_directory(batch_size=batch_size,\n",
        "                                                              directory=validation_dir,\n",
        "                                                              target_size=(IMG_HEIGHT, IMG_WIDTH),\n",
        "                                                              class_mode='binary')"
      ],
      "execution_count": 18,
      "outputs": [
        {
          "output_type": "stream",
          "text": [
            "Found 195 images belonging to 2 classes.\n"
          ],
          "name": "stdout"
        }
      ]
    },
    {
      "cell_type": "code",
      "metadata": {
        "id": "ixBAx-ZeIBsf",
        "colab_type": "code",
        "colab": {
          "base_uri": "https://localhost:8080/",
          "height": 34
        },
        "outputId": "3d2fc21a-5f51-4544-991a-81e482151c2e"
      },
      "source": [
        "train_data_gen.image_shape"
      ],
      "execution_count": 19,
      "outputs": [
        {
          "output_type": "execute_result",
          "data": {
            "text/plain": [
              "(224, 224, 3)"
            ]
          },
          "metadata": {
            "tags": []
          },
          "execution_count": 19
        }
      ]
    },
    {
      "cell_type": "markdown",
      "metadata": {
        "id": "2l7ue6NutCA0",
        "colab_type": "text"
      },
      "source": [
        "## Instatiate Model"
      ]
    },
    {
      "cell_type": "code",
      "metadata": {
        "id": "mKNIYOEItCA0",
        "colab_type": "code",
        "colab": {
          "base_uri": "https://localhost:8080/",
          "height": 425
        },
        "outputId": "3e757a18-b020-4862-8940-9c6f3a5bb4cc"
      },
      "source": [
        "from tensorflow.keras.models import Sequential, Model # <- May Use\n",
        "from tensorflow.keras.layers import Dense, Conv2D, MaxPooling2D, Flatten\n",
        "\n",
        "model = Sequential()\n",
        "model.add(Conv2D(32, (3,3), activation='relu', input_shape=(224,224,3)))\n",
        "model.add(MaxPooling2D((2,2)))\n",
        "model.add(Conv2D(64, (3,3), activation='relu'))\n",
        "model.add(MaxPooling2D((2,2)))\n",
        "model.add(Conv2D(64, (3,3), activation='relu'))\n",
        "model.add(Flatten())\n",
        "model.add(Dense(64, activation='relu'))\n",
        "model.add(Dense(10, activation='softmax'))\n",
        "\n",
        "model.summary()"
      ],
      "execution_count": 3,
      "outputs": [
        {
          "output_type": "stream",
          "text": [
            "Model: \"sequential_1\"\n",
            "_________________________________________________________________\n",
            "Layer (type)                 Output Shape              Param #   \n",
            "=================================================================\n",
            "conv2d (Conv2D)              (None, 222, 222, 32)      896       \n",
            "_________________________________________________________________\n",
            "max_pooling2d (MaxPooling2D) (None, 111, 111, 32)      0         \n",
            "_________________________________________________________________\n",
            "conv2d_1 (Conv2D)            (None, 109, 109, 64)      18496     \n",
            "_________________________________________________________________\n",
            "max_pooling2d_1 (MaxPooling2 (None, 54, 54, 64)        0         \n",
            "_________________________________________________________________\n",
            "conv2d_2 (Conv2D)            (None, 52, 52, 64)        36928     \n",
            "_________________________________________________________________\n",
            "flatten (Flatten)            (None, 173056)            0         \n",
            "_________________________________________________________________\n",
            "dense (Dense)                (None, 64)                11075648  \n",
            "_________________________________________________________________\n",
            "dense_1 (Dense)              (None, 10)                650       \n",
            "=================================================================\n",
            "Total params: 11,132,618\n",
            "Trainable params: 11,132,618\n",
            "Non-trainable params: 0\n",
            "_________________________________________________________________\n"
          ],
          "name": "stdout"
        }
      ]
    },
    {
      "cell_type": "code",
      "metadata": {
        "id": "ls7aKGwYJS9k",
        "colab_type": "code",
        "colab": {}
      },
      "source": [
        "# Compile Model\n",
        "\n",
        "model.compile(optimizer='adam',\n",
        "              loss='sparse_categorical_crossentropy',\n",
        "              metrics=['accuracy'])"
      ],
      "execution_count": 33,
      "outputs": []
    },
    {
      "cell_type": "code",
      "metadata": {
        "id": "1ARvMpq5JPrG",
        "colab_type": "code",
        "colab": {}
      },
      "source": [
        ""
      ],
      "execution_count": null,
      "outputs": []
    },
    {
      "cell_type": "markdown",
      "metadata": {
        "id": "BVPBWYG7tCA2",
        "colab_type": "text"
      },
      "source": [
        "## Fit Model"
      ]
    },
    {
      "cell_type": "code",
      "metadata": {
        "id": "H4XdvWA5tCA3",
        "colab_type": "code",
        "colab": {
          "base_uri": "https://localhost:8080/",
          "height": 867
        },
        "outputId": "b6891a84-29b3-45b4-a8a4-09a7319b1b7a"
      },
      "source": [
        "\n",
        "history = model.fit(\n",
        "    train_data_gen,\n",
        "    steps_per_epoch=total_train // batch_size,\n",
        "    epochs=epochs,\n",
        "    validation_data=val_data_gen,\n",
        "    validation_steps=total_val // batch_size\n",
        ")"
      ],
      "execution_count": 54,
      "outputs": [
        {
          "output_type": "stream",
          "text": [
            "Epoch 1/25\n",
            "32/32 [==============================] - 2s 62ms/step - loss: 6.5870e-05 - accuracy: 1.0000 - val_loss: 0.2917 - val_accuracy: 0.9318\n",
            "Epoch 2/25\n",
            "32/32 [==============================] - 2s 61ms/step - loss: 6.0910e-05 - accuracy: 1.0000 - val_loss: 0.3204 - val_accuracy: 0.9318\n",
            "Epoch 3/25\n",
            "32/32 [==============================] - 2s 60ms/step - loss: 6.2057e-05 - accuracy: 1.0000 - val_loss: 0.2512 - val_accuracy: 0.9375\n",
            "Epoch 4/25\n",
            "32/32 [==============================] - 2s 59ms/step - loss: 6.1800e-05 - accuracy: 1.0000 - val_loss: 0.3078 - val_accuracy: 0.9318\n",
            "Epoch 5/25\n",
            "32/32 [==============================] - 2s 60ms/step - loss: 4.5922e-05 - accuracy: 1.0000 - val_loss: 0.3286 - val_accuracy: 0.9261\n",
            "Epoch 6/25\n",
            "32/32 [==============================] - 2s 60ms/step - loss: 5.3971e-05 - accuracy: 1.0000 - val_loss: 0.3038 - val_accuracy: 0.9318\n",
            "Epoch 7/25\n",
            "32/32 [==============================] - 2s 60ms/step - loss: 4.6006e-05 - accuracy: 1.0000 - val_loss: 0.3071 - val_accuracy: 0.9375\n",
            "Epoch 8/25\n",
            "32/32 [==============================] - 2s 60ms/step - loss: 4.3741e-05 - accuracy: 1.0000 - val_loss: 0.2895 - val_accuracy: 0.9318\n",
            "Epoch 9/25\n",
            "32/32 [==============================] - 2s 60ms/step - loss: 4.0297e-05 - accuracy: 1.0000 - val_loss: 0.3343 - val_accuracy: 0.9261\n",
            "Epoch 10/25\n",
            "32/32 [==============================] - 2s 61ms/step - loss: 3.5812e-05 - accuracy: 1.0000 - val_loss: 0.3128 - val_accuracy: 0.9261\n",
            "Epoch 11/25\n",
            "32/32 [==============================] - 2s 60ms/step - loss: 3.6263e-05 - accuracy: 1.0000 - val_loss: 0.3067 - val_accuracy: 0.9375\n",
            "Epoch 12/25\n",
            "32/32 [==============================] - 2s 61ms/step - loss: 3.4280e-05 - accuracy: 1.0000 - val_loss: 0.3111 - val_accuracy: 0.9318\n",
            "Epoch 13/25\n",
            "32/32 [==============================] - 2s 60ms/step - loss: 3.3077e-05 - accuracy: 1.0000 - val_loss: 0.3353 - val_accuracy: 0.9261\n",
            "Epoch 14/25\n",
            "32/32 [==============================] - 2s 60ms/step - loss: 3.1399e-05 - accuracy: 1.0000 - val_loss: 0.3352 - val_accuracy: 0.9318\n",
            "Epoch 15/25\n",
            "32/32 [==============================] - 2s 61ms/step - loss: 2.8740e-05 - accuracy: 1.0000 - val_loss: 0.2267 - val_accuracy: 0.9375\n",
            "Epoch 16/25\n",
            "32/32 [==============================] - 2s 60ms/step - loss: 3.1555e-05 - accuracy: 1.0000 - val_loss: 0.3216 - val_accuracy: 0.9375\n",
            "Epoch 17/25\n",
            "32/32 [==============================] - 2s 60ms/step - loss: 2.7098e-05 - accuracy: 1.0000 - val_loss: 0.3253 - val_accuracy: 0.9375\n",
            "Epoch 18/25\n",
            "32/32 [==============================] - 2s 60ms/step - loss: 2.9421e-05 - accuracy: 1.0000 - val_loss: 0.2942 - val_accuracy: 0.9375\n",
            "Epoch 19/25\n",
            "32/32 [==============================] - 2s 60ms/step - loss: 2.7713e-05 - accuracy: 1.0000 - val_loss: 0.3539 - val_accuracy: 0.9261\n",
            "Epoch 20/25\n",
            "32/32 [==============================] - 2s 60ms/step - loss: 2.4053e-05 - accuracy: 1.0000 - val_loss: 0.3300 - val_accuracy: 0.9261\n",
            "Epoch 21/25\n",
            "32/32 [==============================] - 2s 60ms/step - loss: 2.1422e-05 - accuracy: 1.0000 - val_loss: 0.3587 - val_accuracy: 0.9261\n",
            "Epoch 22/25\n",
            "32/32 [==============================] - 2s 59ms/step - loss: 2.0402e-05 - accuracy: 1.0000 - val_loss: 0.3320 - val_accuracy: 0.9318\n",
            "Epoch 23/25\n",
            "32/32 [==============================] - 2s 60ms/step - loss: 1.9459e-05 - accuracy: 1.0000 - val_loss: 0.3244 - val_accuracy: 0.9375\n",
            "Epoch 24/25\n",
            "32/32 [==============================] - 2s 59ms/step - loss: 1.9131e-05 - accuracy: 1.0000 - val_loss: 0.2682 - val_accuracy: 0.9432\n",
            "Epoch 25/25\n",
            "32/32 [==============================] - 2s 60ms/step - loss: 1.8574e-05 - accuracy: 1.0000 - val_loss: 0.2602 - val_accuracy: 0.9432\n"
          ],
          "name": "stdout"
        }
      ]
    },
    {
      "cell_type": "markdown",
      "metadata": {
        "id": "UPzsgS94tCA5",
        "colab_type": "text"
      },
      "source": [
        "# Custom CNN Model\n",
        "\n",
        "In this step, write and train your own convolutional neural network using Keras. You can use any architecture that suits you as long as it has at least one convolutional and one pooling layer at the beginning of the network - you can add more if you want. "
      ]
    },
    {
      "cell_type": "code",
      "metadata": {
        "id": "hnbJJie3tCA5",
        "colab_type": "code",
        "colab": {
          "base_uri": "https://localhost:8080/",
          "height": 425
        },
        "outputId": "5d199641-c3b6-4dde-84a5-7cb7e26d0ec3"
      },
      "source": [
        "# Define the Model\n",
        "model = Sequential()\n",
        "model.add(Conv2D(32, (3,3), activation='relu', input_shape=(224,224,3)))\n",
        "model.add(MaxPooling2D((2,2)))\n",
        "model.add(Conv2D(37, (3,3), activation='sigmoid'))\n",
        "model.add(MaxPooling2D((2,2)))\n",
        "model.add(Conv2D(64, (3,3), activation='relu'))\n",
        "model.add(Flatten())\n",
        "model.add(Dense(33, activation='relu'))\n",
        "model.add(Dense(10, activation='softmax'))\n",
        "model.summary()"
      ],
      "execution_count": 56,
      "outputs": [
        {
          "output_type": "stream",
          "text": [
            "Model: \"sequential_14\"\n",
            "_________________________________________________________________\n",
            "Layer (type)                 Output Shape              Param #   \n",
            "=================================================================\n",
            "conv2d_35 (Conv2D)           (None, 222, 222, 32)      896       \n",
            "_________________________________________________________________\n",
            "max_pooling2d_24 (MaxPooling (None, 111, 111, 32)      0         \n",
            "_________________________________________________________________\n",
            "conv2d_36 (Conv2D)           (None, 109, 109, 37)      10693     \n",
            "_________________________________________________________________\n",
            "max_pooling2d_25 (MaxPooling (None, 54, 54, 37)        0         \n",
            "_________________________________________________________________\n",
            "conv2d_37 (Conv2D)           (None, 52, 52, 64)        21376     \n",
            "_________________________________________________________________\n",
            "flatten_13 (Flatten)         (None, 173056)            0         \n",
            "_________________________________________________________________\n",
            "dense_26 (Dense)             (None, 33)                5710881   \n",
            "_________________________________________________________________\n",
            "dense_27 (Dense)             (None, 10)                340       \n",
            "=================================================================\n",
            "Total params: 5,744,186\n",
            "Trainable params: 5,744,186\n",
            "Non-trainable params: 0\n",
            "_________________________________________________________________\n"
          ],
          "name": "stdout"
        }
      ]
    },
    {
      "cell_type": "code",
      "metadata": {
        "id": "1P_mRtoutCA9",
        "colab_type": "code",
        "colab": {}
      },
      "source": [
        "\n",
        "# Compile Model\n",
        "\n",
        "model.compile(optimizer='adamax',\n",
        "              loss='sparse_categorical_crossentropy',\n",
        "              metrics=['accuracy'])"
      ],
      "execution_count": null,
      "outputs": []
    },
    {
      "cell_type": "code",
      "metadata": {
        "id": "CwM4GsaetCA_",
        "colab_type": "code",
        "colab": {
          "base_uri": "https://localhost:8080/",
          "height": 867
        },
        "outputId": "c94bb620-3316-43e1-ba5f-5ab2eb216fca"
      },
      "source": [
        "#Determine how many epochs and batch size\n",
        "batch_size = 16\n",
        "epochs = 25\n",
        "\n",
        "# Fit Model\n",
        "history = model.fit(\n",
        "    train_data_gen,\n",
        "    steps_per_epoch=total_train // batch_size,\n",
        "    epochs=epochs,\n",
        "    validation_data=val_data_gen,\n",
        "    validation_steps=total_val // batch_size\n",
        ")\n"
      ],
      "execution_count": 59,
      "outputs": [
        {
          "output_type": "stream",
          "text": [
            "Epoch 1/25\n",
            "32/32 [==============================] - 2s 60ms/step - loss: 0.3433 - accuracy: 0.8643 - val_loss: 0.2650 - val_accuracy: 0.9091\n",
            "Epoch 2/25\n",
            "32/32 [==============================] - 2s 60ms/step - loss: 0.2615 - accuracy: 0.8982 - val_loss: 0.2067 - val_accuracy: 0.9148\n",
            "Epoch 3/25\n",
            "32/32 [==============================] - 2s 59ms/step - loss: 0.2382 - accuracy: 0.9082 - val_loss: 0.1834 - val_accuracy: 0.9091\n",
            "Epoch 4/25\n",
            "32/32 [==============================] - 2s 59ms/step - loss: 0.1989 - accuracy: 0.9242 - val_loss: 0.1813 - val_accuracy: 0.9205\n",
            "Epoch 5/25\n",
            "32/32 [==============================] - 2s 59ms/step - loss: 0.1893 - accuracy: 0.9202 - val_loss: 0.2902 - val_accuracy: 0.8693\n",
            "Epoch 6/25\n",
            "32/32 [==============================] - 2s 59ms/step - loss: 0.1684 - accuracy: 0.9361 - val_loss: 0.2883 - val_accuracy: 0.8750\n",
            "Epoch 7/25\n",
            "32/32 [==============================] - 2s 60ms/step - loss: 0.1761 - accuracy: 0.9238 - val_loss: 0.2135 - val_accuracy: 0.8977\n",
            "Epoch 8/25\n",
            "32/32 [==============================] - 2s 60ms/step - loss: 0.1938 - accuracy: 0.9182 - val_loss: 0.4268 - val_accuracy: 0.8466\n",
            "Epoch 9/25\n",
            "32/32 [==============================] - 2s 59ms/step - loss: 0.1826 - accuracy: 0.9242 - val_loss: 0.4551 - val_accuracy: 0.8409\n",
            "Epoch 10/25\n",
            "32/32 [==============================] - 2s 60ms/step - loss: 0.1564 - accuracy: 0.9361 - val_loss: 0.1768 - val_accuracy: 0.9318\n",
            "Epoch 11/25\n",
            "32/32 [==============================] - 2s 59ms/step - loss: 0.2342 - accuracy: 0.8982 - val_loss: 0.3742 - val_accuracy: 0.8409\n",
            "Epoch 12/25\n",
            "32/32 [==============================] - 2s 58ms/step - loss: 0.1950 - accuracy: 0.9122 - val_loss: 0.1455 - val_accuracy: 0.9375\n",
            "Epoch 13/25\n",
            "32/32 [==============================] - 2s 59ms/step - loss: 0.1546 - accuracy: 0.9341 - val_loss: 0.3171 - val_accuracy: 0.8750\n",
            "Epoch 14/25\n",
            "32/32 [==============================] - 2s 58ms/step - loss: 0.1463 - accuracy: 0.9301 - val_loss: 0.6135 - val_accuracy: 0.7955\n",
            "Epoch 15/25\n",
            "32/32 [==============================] - 2s 60ms/step - loss: 0.1491 - accuracy: 0.9381 - val_loss: 0.3176 - val_accuracy: 0.8750\n",
            "Epoch 16/25\n",
            "32/32 [==============================] - 2s 59ms/step - loss: 0.1233 - accuracy: 0.9541 - val_loss: 0.1888 - val_accuracy: 0.9205\n",
            "Epoch 17/25\n",
            "32/32 [==============================] - 2s 59ms/step - loss: 0.1340 - accuracy: 0.9512 - val_loss: 0.2646 - val_accuracy: 0.8693\n",
            "Epoch 18/25\n",
            "32/32 [==============================] - 2s 59ms/step - loss: 0.1200 - accuracy: 0.9421 - val_loss: 0.2320 - val_accuracy: 0.9205\n",
            "Epoch 19/25\n",
            "32/32 [==============================] - 2s 61ms/step - loss: 0.1618 - accuracy: 0.9381 - val_loss: 0.2013 - val_accuracy: 0.9205\n",
            "Epoch 20/25\n",
            "32/32 [==============================] - 2s 63ms/step - loss: 0.1048 - accuracy: 0.9601 - val_loss: 0.1985 - val_accuracy: 0.8977\n",
            "Epoch 21/25\n",
            "32/32 [==============================] - 2s 63ms/step - loss: 0.0959 - accuracy: 0.9561 - val_loss: 0.1677 - val_accuracy: 0.9318\n",
            "Epoch 22/25\n",
            "32/32 [==============================] - 2s 64ms/step - loss: 0.0966 - accuracy: 0.9681 - val_loss: 0.1655 - val_accuracy: 0.9261\n",
            "Epoch 23/25\n",
            "32/32 [==============================] - 2s 62ms/step - loss: 0.1287 - accuracy: 0.9441 - val_loss: 0.3079 - val_accuracy: 0.8807\n",
            "Epoch 24/25\n",
            "32/32 [==============================] - 2s 62ms/step - loss: 0.1275 - accuracy: 0.9421 - val_loss: 0.1600 - val_accuracy: 0.9318\n",
            "Epoch 25/25\n",
            "32/32 [==============================] - 2s 64ms/step - loss: 0.1058 - accuracy: 0.9461 - val_loss: 0.2299 - val_accuracy: 0.9205\n"
          ],
          "name": "stdout"
        }
      ]
    },
    {
      "cell_type": "markdown",
      "metadata": {
        "id": "FNTHjUddtCBB",
        "colab_type": "text"
      },
      "source": [
        "# Custom CNN Model with Image Manipulations\n",
        "\n",
        "To simulate an increase in a sample of image, you can apply image manipulation techniques: cropping, rotation, stretching, etc. Luckily Keras has some handy functions for us to apply these techniques to our mountain and forest example. Simply, you should be able to modify our image generator for the problem. Check out these resources to help you get started: \n",
        "\n",
        "1. [Keras `ImageGenerator` Class](https://keras.io/preprocessing/image/#imagedatagenerator-class)\n",
        "2. [Building a powerful image classifier with very little data](https://blog.keras.io/building-powerful-image-classification-models-using-very-little-data.html)\n",
        " "
      ]
    },
    {
      "cell_type": "code",
      "metadata": {
        "id": "XKioBv3WtCBB",
        "colab_type": "code",
        "colab": {}
      },
      "source": [
        "# Choose batch size and epochs\n",
        "batch_size = 16\n",
        "epochs = 50\n",
        "IMG_HEIGHT = 224\n",
        "IMG_WIDTH = 224\n",
        "\n",
        "from tensorflow.keras.preprocessing.image import ImageDataGenerator\n",
        "\n",
        "# Generator for our training data\n",
        "# Testing inout different parameters for generator for image manipulation\n",
        "train_image_generator = ImageDataGenerator(rescale=1./255,\n",
        "                                          rotation_range=20,\n",
        "                                           zoom_range=0.1) \n",
        " # Generator for our validation data\n",
        "validation_image_generator = ImageDataGenerator(rescale=1./255,\n",
        "                                                rotation_range=20,\n",
        "                                                zoom_range=0.1)\n",
        "\n"
      ],
      "execution_count": 66,
      "outputs": []
    },
    {
      "cell_type": "code",
      "metadata": {
        "id": "vR4xWadurSsx",
        "colab_type": "code",
        "colab": {
          "base_uri": "https://localhost:8080/",
          "height": 34
        },
        "outputId": "a45c6d6d-336c-42a8-b8ab-b7dd17642cb8"
      },
      "source": [
        "\n",
        "train_data_gen = train_image_generator.flow_from_directory(batch_size=batch_size,\n",
        "                                                           directory=train_dir,\n",
        "                                                           shuffle=True,\n",
        "                                                           target_size=(IMG_HEIGHT, IMG_WIDTH),\n",
        "                                                           class_mode='binary')"
      ],
      "execution_count": 67,
      "outputs": [
        {
          "output_type": "stream",
          "text": [
            "Found 533 images belonging to 2 classes.\n"
          ],
          "name": "stdout"
        }
      ]
    },
    {
      "cell_type": "code",
      "metadata": {
        "id": "GSBqLFAwt0XZ",
        "colab_type": "code",
        "colab": {
          "base_uri": "https://localhost:8080/",
          "height": 34
        },
        "outputId": "fdba8605-63fa-4bbf-fd86-6e47e6e82f4a"
      },
      "source": [
        "val_data_gen = validation_image_generator.flow_from_directory(batch_size=batch_size,\n",
        "                                                              directory=validation_dir,\n",
        "                                                              target_size=(IMG_HEIGHT, IMG_WIDTH),\n",
        "                                                              class_mode='binary')"
      ],
      "execution_count": 68,
      "outputs": [
        {
          "output_type": "stream",
          "text": [
            "Found 195 images belonging to 2 classes.\n"
          ],
          "name": "stdout"
        }
      ]
    },
    {
      "cell_type": "code",
      "metadata": {
        "id": "kwj-Y4yyvG1g",
        "colab_type": "code",
        "colab": {
          "base_uri": "https://localhost:8080/",
          "height": 425
        },
        "outputId": "9d953703-4b17-40cb-cb16-366de435d3de"
      },
      "source": [
        "# Define the Model\n",
        "model = Sequential()\n",
        "model.add(Conv2D(32, (3,3), activation='relu', input_shape=(224,224,3)))\n",
        "model.add(MaxPooling2D((2,2)))\n",
        "model.add(Conv2D(64, (3,3), activation='relu'))\n",
        "model.add(MaxPooling2D((2,2)))\n",
        "model.add(Conv2D(64, (3,3), activation='relu'))\n",
        "model.add(Flatten())\n",
        "model.add(Dense(64, activation='relu'))\n",
        "model.add(Dense(10, activation='softmax'))\n",
        "\n",
        "model.summary()"
      ],
      "execution_count": 76,
      "outputs": [
        {
          "output_type": "stream",
          "text": [
            "Model: \"sequential_17\"\n",
            "_________________________________________________________________\n",
            "Layer (type)                 Output Shape              Param #   \n",
            "=================================================================\n",
            "conv2d_44 (Conv2D)           (None, 222, 222, 32)      896       \n",
            "_________________________________________________________________\n",
            "max_pooling2d_30 (MaxPooling (None, 111, 111, 32)      0         \n",
            "_________________________________________________________________\n",
            "conv2d_45 (Conv2D)           (None, 109, 109, 64)      18496     \n",
            "_________________________________________________________________\n",
            "max_pooling2d_31 (MaxPooling (None, 54, 54, 64)        0         \n",
            "_________________________________________________________________\n",
            "conv2d_46 (Conv2D)           (None, 52, 52, 64)        36928     \n",
            "_________________________________________________________________\n",
            "flatten_16 (Flatten)         (None, 173056)            0         \n",
            "_________________________________________________________________\n",
            "dense_32 (Dense)             (None, 64)                11075648  \n",
            "_________________________________________________________________\n",
            "dense_33 (Dense)             (None, 10)                650       \n",
            "=================================================================\n",
            "Total params: 11,132,618\n",
            "Trainable params: 11,132,618\n",
            "Non-trainable params: 0\n",
            "_________________________________________________________________\n"
          ],
          "name": "stdout"
        }
      ]
    },
    {
      "cell_type": "code",
      "metadata": {
        "id": "1y04p2BxwWbS",
        "colab_type": "code",
        "colab": {}
      },
      "source": [
        "# Compile Model\n",
        "\n",
        "model.compile(optimizer='adamax',\n",
        "              loss='sparse_categorical_crossentropy',\n",
        "              metrics=['accuracy'])"
      ],
      "execution_count": 77,
      "outputs": []
    },
    {
      "cell_type": "code",
      "metadata": {
        "id": "V7nrm90Uwbqf",
        "colab_type": "code",
        "colab": {
          "base_uri": "https://localhost:8080/",
          "height": 357
        },
        "outputId": "0b46bfd3-f876-433f-8f0b-3bbf034c6c57"
      },
      "source": [
        "#Determine how many epochs and batch size\n",
        "batch_size = 16\n",
        "epochs = 10\n",
        "\n",
        "# Fit Model\n",
        "history = model.fit(\n",
        "    train_data_gen,\n",
        "    steps_per_epoch=total_train // batch_size,\n",
        "    epochs=epochs,\n",
        "    validation_data=val_data_gen,\n",
        "    validation_steps=total_val // batch_size\n",
        ")\n"
      ],
      "execution_count": 78,
      "outputs": [
        {
          "output_type": "stream",
          "text": [
            "Epoch 1/10\n",
            "32/32 [==============================] - 9s 273ms/step - loss: 0.6186 - accuracy: 0.7525 - val_loss: 0.2987 - val_accuracy: 0.8807\n",
            "Epoch 2/10\n",
            "32/32 [==============================] - 8s 263ms/step - loss: 0.2042 - accuracy: 0.9281 - val_loss: 0.1613 - val_accuracy: 0.9318\n",
            "Epoch 3/10\n",
            "32/32 [==============================] - 8s 265ms/step - loss: 0.1864 - accuracy: 0.9281 - val_loss: 0.3232 - val_accuracy: 0.8750\n",
            "Epoch 4/10\n",
            "32/32 [==============================] - 8s 264ms/step - loss: 0.1764 - accuracy: 0.9361 - val_loss: 0.1358 - val_accuracy: 0.9432\n",
            "Epoch 5/10\n",
            "32/32 [==============================] - 9s 266ms/step - loss: 0.1669 - accuracy: 0.9421 - val_loss: 0.2802 - val_accuracy: 0.9091\n",
            "Epoch 6/10\n",
            "32/32 [==============================] - 8s 264ms/step - loss: 0.1558 - accuracy: 0.9381 - val_loss: 0.1658 - val_accuracy: 0.9318\n",
            "Epoch 7/10\n",
            "32/32 [==============================] - 9s 266ms/step - loss: 0.1583 - accuracy: 0.9336 - val_loss: 0.3842 - val_accuracy: 0.8523\n",
            "Epoch 8/10\n",
            "32/32 [==============================] - 9s 267ms/step - loss: 0.1273 - accuracy: 0.9501 - val_loss: 0.1670 - val_accuracy: 0.9205\n",
            "Epoch 9/10\n",
            "32/32 [==============================] - 9s 268ms/step - loss: 0.1450 - accuracy: 0.9461 - val_loss: 0.1925 - val_accuracy: 0.9091\n",
            "Epoch 10/10\n",
            "32/32 [==============================] - 9s 269ms/step - loss: 0.1328 - accuracy: 0.9395 - val_loss: 0.2383 - val_accuracy: 0.9091\n"
          ],
          "name": "stdout"
        }
      ]
    },
    {
      "cell_type": "markdown",
      "metadata": {
        "colab_type": "text",
        "id": "uT3UV3gap9H6"
      },
      "source": [
        "# Resources and Stretch Goals\n",
        "\n",
        "Stretch goals\n",
        "- Enhance your code to use classes/functions and accept terms to search and classes to look for in recognizing the downloaded images (e.g. download images of parties, recognize all that contain balloons)\n",
        "- Check out [other available pretrained networks](https://tfhub.dev), try some and compare\n",
        "- Image recognition/classification is somewhat solved, but *relationships* between entities and describing an image is not - check out some of the extended resources (e.g. [Visual Genome](https://visualgenome.org/)) on the topic\n",
        "- Transfer learning - using images you source yourself, [retrain a classifier](https://www.tensorflow.org/hub/tutorials/image_retraining) with a new category\n",
        "- (Not CNN related) Use [piexif](https://pypi.org/project/piexif/) to check out the metadata of images passed in to your system - see if they're from a national park! (Note - many images lack GPS metadata, so this won't work in most cases, but still cool)\n",
        "\n",
        "Resources\n",
        "- [Deep Residual Learning for Image Recognition](https://arxiv.org/abs/1512.03385) - influential paper (introduced ResNet)\n",
        "- [YOLO: Real-Time Object Detection](https://pjreddie.com/darknet/yolo/) - an influential convolution based object detection system, focused on inference speed (for applications to e.g. self driving vehicles)\n",
        "- [R-CNN, Fast R-CNN, Faster R-CNN, YOLO](https://towardsdatascience.com/r-cnn-fast-r-cnn-faster-r-cnn-yolo-object-detection-algorithms-36d53571365e) - comparison of object detection systems\n",
        "- [Common Objects in Context](http://cocodataset.org/) - a large-scale object detection, segmentation, and captioning dataset\n",
        "- [Visual Genome](https://visualgenome.org/) - a dataset, a knowledge base, an ongoing effort to connect structured image concepts to language"
      ]
    }
  ]
}